{
 "cells": [
  {
   "cell_type": "code",
   "execution_count": 56,
   "metadata": {},
   "outputs": [
    {
     "name": "stdout",
     "output_type": "stream",
     "text": [
      "Ankit                | i am very positive\n",
      "user2                | set an appointment for 2pm on friday\n",
      "user2                | set an appointment for 4pm on Thursday\n",
      "user2                | set an appointment for 3pm tomorrow but your work is not good at all.\n"
     ]
    }
   ],
   "source": [
    "from google.cloud import bigquery\n",
    "from google.oauth2 import service_account\n",
    "credentials = service_account.Credentials.from_service_account_file(\n",
    "'sentimental-big-query-gf9j-0e4496f17e95.json')\n",
    "\n",
    "project_id = 'sentimental-big-query-gf9j'\n",
    "client = bigquery.Client(credentials= credentials,project=project_id)\n",
    "\n",
    "query = \"\"\"\n",
    "    select * from `sentiment.sentiment_tb` \n",
    "\"\"\"\n",
    "results = client.query(query)\n",
    "\n",
    "for row in results:\n",
    "    title = row['user_id']\n",
    "    unique_words = row['message']\n",
    "    print(f'{title:<20} | {unique_words}')"
   ]
  },
  {
   "cell_type": "code",
   "execution_count": 57,
   "metadata": {},
   "outputs": [],
   "source": [
    "lis1=[]\n",
    "for row in results:\n",
    "    msg = row['message']\n",
    "    lis1.append(msg)\n",
    "    "
   ]
  },
  {
   "cell_type": "code",
   "execution_count": 58,
   "metadata": {},
   "outputs": [
    {
     "name": "stdout",
     "output_type": "stream",
     "text": [
      "4\n"
     ]
    }
   ],
   "source": [
    "print(len(lis1))"
   ]
  },
  {
   "cell_type": "code",
   "execution_count": 24,
   "metadata": {},
   "outputs": [],
   "source": [
    "from google.cloud import automl\n",
    "project_id = \"sentimental-big-query-gf9j\"\n",
    "model_id = \"TST5499002897158897664\"\n",
    "content = \"this is ok\"\n",
    "\n",
    "import sys\n",
    "import os\n",
    "os.environ[\"GOOGLE_APPLICATION_CREDENTIALS\"]=\"sentimental-big-query-gf9j-3fb625330594.json\"\n"
   ]
  },
  {
   "cell_type": "code",
   "execution_count": 59,
   "metadata": {},
   "outputs": [
    {
     "name": "stdout",
     "output_type": "stream",
     "text": [
      "projects/98715506514/locations/us-central1/models/TST5499002897158897664\n"
     ]
    }
   ],
   "source": [
    "prediction_client = automl.PredictionServiceClient()\n",
    "\n",
    "# Get the full path of the model.\n",
    "model_full_id = prediction_client.model_path(\n",
    "    project_id, \"us-central1\", model_id\n",
    ")\n",
    "model_full_id=\"projects/98715506514/locations/us-central1/models/TST5499002897158897664\"\n",
    "print(model_full_id)\n",
    "\n",
    "\n",
    "\n",
    "# Supported mime_types: 'text/plain', 'text/html'\n",
    "# https://cloud.google.com/automl/docs/reference/rpc/google.cloud.automl.v1#textsnippet\n",
    "lis2=[]\n",
    "for msg in lis1:\n",
    "    content = msg\n",
    "    text_snippet = automl.types.TextSnippet(\n",
    "    content=content, mime_type=\"text/plain\"\n",
    "    )\n",
    "    payload = automl.types.ExamplePayload(text_snippet=text_snippet)\n",
    "    response = prediction_client.predict(model_full_id, payload)\n",
    "    res=response.payload[0].text_sentiment.sentiment\n",
    "    if(res==2 or res==1):\n",
    "        lis2.append(res)\n",
    "    else:\n",
    "        lis2.append(0)\n",
    "\n"
   ]
  },
  {
   "cell_type": "code",
   "execution_count": 67,
   "metadata": {},
   "outputs": [
    {
     "data": {
      "image/png": "[encoded data removed]",
      "text/plain": [
       "<Figure size 432x288 with 1 Axes>"
      ]
     },
     "metadata": {},
     "output_type": "display_data"
    }
   ],
   "source": [
    "pos=lis2.count(2)\n",
    "neu=lis2.count(1)\n",
    "neg=lis2.count(0)\n",
    "\n",
    "import matplotlib.pyplot as plt\n",
    "\n",
    "labels = ['positive', 'neutral', 'negative']\n",
    "sizes = [pos,neu,neg]\n",
    "colors = ['yellowgreen', 'gold', 'red']\n",
    "patches, texts = plt.pie(sizes, colors=colors, shadow=True, startangle=90)\n",
    "plt.legend(patches, labels, loc=\"best\")\n",
    "plt.axis('equal')\n",
    "plt.tight_layout()\n",
    "plt.show()"
   ]
  },
  {
   "cell_type": "code",
   "execution_count": null,
   "metadata": {},
   "outputs": [],
   "source": []
  }
 ],
 "metadata": {
  "kernelspec": {
   "display_name": "Python 3",
   "language": "python",
   "name": "python3"
  },
  "language_info": {
   "codemirror_mode": {
    "name": "ipython",
    "version": 3
   },
   "file_extension": ".py",
   "mimetype": "text/x-python",
   "name": "python",
   "nbconvert_exporter": "python",
   "pygments_lexer": "ipython3",
   "version": "3.7.4"
  }
 },
 "nbformat": 4,
 "nbformat_minor": 4
}
